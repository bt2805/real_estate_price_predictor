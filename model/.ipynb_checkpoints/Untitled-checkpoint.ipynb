{
 "cells": [
  {
   "cell_type": "markdown",
   "id": "7b2e4e19-386b-42b1-8693-9f6ac2869d0b",
   "metadata": {},
   "source": [
    "Data Science Machine Learning(Regression) Project : Real Estate price prediction in Melbourne"
   ]
  },
  {
   "cell_type": "code",
   "execution_count": null,
   "id": "2ac13569-60c2-4ee0-afdc-71bdbb4faebc",
   "metadata": {},
   "outputs": [],
   "source": []
  }
 ],
 "metadata": {
  "kernelspec": {
   "display_name": "Python [conda env:cpsc330]",
   "language": "python",
   "name": "conda-env-cpsc330-py"
  },
  "language_info": {
   "codemirror_mode": {
    "name": "ipython",
    "version": 3
   },
   "file_extension": ".py",
   "mimetype": "text/x-python",
   "name": "python",
   "nbconvert_exporter": "python",
   "pygments_lexer": "ipython3",
   "version": "3.10.0"
  }
 },
 "nbformat": 4,
 "nbformat_minor": 5
}
